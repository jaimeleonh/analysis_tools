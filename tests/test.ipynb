{
 "cells": [
  {
   "cell_type": "code",
   "execution_count": 2,
   "metadata": {},
   "outputs": [],
   "source": [
    "from analysis_tools import Dataset, Process, Feature\n",
    "from pprint import pprint"
   ]
  },
  {
   "cell_type": "code",
   "execution_count": 3,
   "metadata": {},
   "outputs": [
    {
     "name": "stdout",
     "output_type": "stream",
     "text": [
      "['/store/mc/RunIISummer16NanoAODv7/DYJetsToLL_M-50_TuneCUETP8M1_13TeV-madgraphMLM-pythia8/NANOAODSIM/PUMoriond17_Nano02Apr2020_102X_mcRun2_asymptotic_v8_ext2-v1/110000/0510AD3C-A266-9544-B816-CACA36F1916F.root',\n",
      " '/store/mc/RunIISummer16NanoAODv7/DYJetsToLL_M-50_TuneCUETP8M1_13TeV-madgraphMLM-pythia8/NANOAODSIM/PUMoriond17_Nano02Apr2020_102X_mcRun2_asymptotic_v8_ext2-v1/110000/142892DA-7F19-B743-A6BF-94DC12A7D0A1.root']\n"
     ]
    }
   ],
   "source": [
    "# Create dy process and dataset (whose files are in desy, so we must use xrootd)\n",
    "dy_process = Process(\"dy\", \"DY\", color=(255, 0, 0))\n",
    "d = Dataset(\"dy_low\", \n",
    "            \"/store/mc/RunIISummer16NanoAODv7/DYJetsToLL_M-50_TuneCUETP8M1_13TeV-madgraphMLM-pythia8/NANOAODSIM/PUMoriond17_Nano02Apr2020_102X_mcRun2_asymptotic_v8_ext2-v1/110000/\",\n",
    "            dy_process,\n",
    "            prefix=\"dcache-cms-xrootd.desy.de:1094/\"\n",
    "           )\n",
    "# let's see which files we are considering\n",
    "# don't forget to voms-proxy before!\n",
    "pprint(d.get_files()[0:2])"
   ]
  },
  {
   "cell_type": "code",
   "execution_count": 4,
   "metadata": {},
   "outputs": [
    {
     "name": "stdout",
     "output_type": "stream",
     "text": [
      "Welcome to JupyROOT 6.18/04\n",
      "['root://dcache-cms-xrootd.desy.de:1094//store/mc/RunIISummer16NanoAODv7/DYJetsToLL_M-50_TuneCUETP8M1_13TeV-madgraphMLM-pythia8/NANOAODSIM/PUMoriond17_Nano02Apr2020_102X_mcRun2_asymptotic_v8_ext2-v1/110000/0510AD3C-A266-9544-B816-CACA36F1916F.root']\n"
     ]
    }
   ],
   "source": [
    "# lets plot stuff using ROOT RDataFrame\n",
    "import ROOT\n",
    "if d.prefix:\n",
    "    files = [(\"root://\" + d.prefix + f) for f in d.get_files()[0:1]]\n",
    "else:\n",
    "    files = d.get_files()\n",
    "print files\n",
    "dataframe_files = ROOT.vector(str)()\n",
    "for f in files:\n",
    "    dataframe_files.push_back(f)\n",
    "df = ROOT.RDataFrame(\"Events\", dataframe_files)"
   ]
  },
  {
   "cell_type": "code",
   "execution_count": null,
   "metadata": {},
   "outputs": [],
   "source": [
    "f = Feature(\"met_pt\", \"MET_pt\")\n",
    "hist = df.Histo1D(f.expression)\n",
    "hist.SetLineColor(ROOT.TColor.GetColor(*d.process.color))\n",
    "c = ROOT.TCanvas(\"\", \"\", 800, 800)\n",
    "hist.Draw()\n",
    "c.Draw()"
   ]
  },
  {
   "cell_type": "code",
   "execution_count": null,
   "metadata": {},
   "outputs": [],
   "source": [
    "f = Feature(\"met_pt\", \"MET_pt\")\n",
    "new_df = df.Filter(\"MET_pt > 90\")\n",
    "hist = new_df.Histo1D(f.expression)\n",
    "hist.SetLineColor(ROOT.TColor.GetColor(*d.process.color))\n",
    "c = ROOT.TCanvas(\"\", \"\", 800, 800)\n",
    "hist.Draw()\n",
    "# c.Draw()\n",
    "# new_df.Snapshot(\"Events\", \"skim.root\")"
   ]
  },
  {
   "cell_type": "code",
   "execution_count": null,
   "metadata": {},
   "outputs": [],
   "source": [
    "ROOT.gSystem.Load(\"../HHKinFit2/libHHKinFit2.so\")\n",
    "ROOT.gInterpreter.Declare('#include \"/afs/cern.ch/work/j/jleonhol/private/cms_phys_ciemat/analysis_tools/HHKinFit2/interface/HHKinFitMasterHeavyHiggs.h\"')\n"
   ]
  },
  {
   "cell_type": "code",
   "execution_count": 6,
   "metadata": {},
   "outputs": [
    {
     "data": {
      "image/png": "[encoded data removed]",
      "text/plain": [
       "<IPython.core.display.Image object>"
      ]
     },
     "metadata": {},
     "output_type": "display_data"
    }
   ],
   "source": [
    "c = ROOT.TCanvas(\"\", \"\", 800, 800)\n",
    "\n",
    "f = Feature(\"nfatjet\", \"nFatJet\")\n",
    "hist = df.Histo1D(f.expression)\n",
    "# hist.Draw()\n",
    "\n",
    "f2 = Feature(\"Muon_pt\", \"Muon_pt\")\n",
    "hist2 = df.Histo1D(f2.expression)\n",
    "\n",
    "ROOT.gInterpreter.Declare(\"\"\"\n",
    "    using Vfloat = const ROOT::RVec<float>&;      \n",
    "    float pt_0(Vfloat pt, int n){\n",
    "        if (n == 0) return -1.;\n",
    "        else return pt[0];\n",
    "    }\n",
    "\"\"\")\n",
    "hmodel = (\"hpt\",\"Muon p_{T}[GeV]\",50,0., 200.)\n",
    "muon_pt_0 = df.Define(\"Muon_pt_0\", \"pt_0(Muon_pt, nMuon)\").Histo1D(hmodel,\"Muon_pt_0\")\n",
    "\n",
    "hist2.Draw(\"same\")\n",
    "muon_pt_0.SetLineColor(ROOT.kRed)\n",
    "muon_pt_0.Draw(\"same\")\n",
    "\n",
    "\n",
    "# # new_df = df.Filter(\"nMuon >= 1\")\n",
    "# # muon_charge_0 = new_df.Define(\"muon_charge_0\", \"Muon_charge[0]\")\n",
    "# # #f3 = Feature(\"Muon_charge\", \"Muon_charge[0]\")\n",
    "# hist3 = new_df.Histo1D(f3.expression)\n",
    "# # hist3 = new_df.Histo1D(\"muon_charge_0\")\n",
    "\n",
    "# # hist2.Draw()\n",
    "# hist3.SetLineColor(ROOT.kRed)\n",
    "# hist3.Draw(\"same\")\n",
    "c.Draw()"
   ]
  },
  {
   "cell_type": "code",
   "execution_count": null,
   "metadata": {},
   "outputs": [],
   "source": []
  },
  {
   "cell_type": "code",
   "execution_count": null,
   "metadata": {},
   "outputs": [],
   "source": []
  }
 ],
 "metadata": {
  "kernelspec": {
   "display_name": "Python 2",
   "language": "python",
   "name": "python2"
  },
  "language_info": {
   "codemirror_mode": {
    "name": "ipython",
    "version": 2
   },
   "file_extension": ".py",
   "mimetype": "text/x-python",
   "name": "python",
   "nbconvert_exporter": "python",
   "pygments_lexer": "ipython2",
   "version": "2.7.15+"
  }
 },
 "nbformat": 4,
 "nbformat_minor": 2
}
